{
 "cells": [
  {
   "cell_type": "code",
   "execution_count": 1,
   "metadata": {},
   "outputs": [],
   "source": [
    "import pandas as pd # type: ignore\n",
    "import numpy as np\n",
    "import os"
   ]
  },
  {
   "cell_type": "code",
   "execution_count": 3,
   "metadata": {},
   "outputs": [
    {
     "name": "stdout",
     "output_type": "stream",
     "text": [
      "\u001b[34mCPC_total_pre_day_0.5x0.5_1979-2021_\u001b[m\u001b[m/ Final_essay.pdf\n",
      "Calculate_climate_indices.py          \u001b[34mtmax\u001b[m\u001b[m/\n",
      "Climate_Indices.ipynb                 \u001b[34mtmin\u001b[m\u001b[m/\n"
     ]
    }
   ],
   "source": [
    "ls"
   ]
  },
  {
   "cell_type": "code",
   "execution_count": 10,
   "metadata": {},
   "outputs": [
    {
     "ename": "SyntaxError",
     "evalue": "unexpected character after line continuation character (3022753547.py, line 1)",
     "output_type": "error",
     "traceback": [
      "\u001b[0;36m  Cell \u001b[0;32mIn[10], line 1\u001b[0;36m\u001b[0m\n\u001b[0;31m    \\CPC_total_pre_day_0.5x0.5_1979-2021_\u001b[0m\n\u001b[0m     ^\u001b[0m\n\u001b[0;31mSyntaxError\u001b[0m\u001b[0;31m:\u001b[0m unexpected character after line continuation character\n"
     ]
    }
   ],
   "source": [
    "CPC_total_pre_day_0.5x0.5_1979-2021_"
   ]
  },
  {
   "cell_type": "code",
   "execution_count": null,
   "metadata": {},
   "outputs": [],
   "source": [
    "\n",
    "# Directories containing the data files\n",
    "tmin_dir = '/Users/loverighteous1/Desktop/MasterThesisData/tmin' \n",
    "tmax_dir = '/Users/loverighteous1/Desktop/MasterThesisData/tmax'          \n",
    "precip_dir = '/Users/loverighteous1/Desktop/MasterThesisData/CPC_total_pre_day_0.5x0.5_1979-2021_'\n",
    "\n",
    "# Loop through each file in the directory\n",
    "for file_name in os.listdir(tmin_dir):\n",
    "    if file_name.endswith('.csv'):\n",
    "        file_path = os.path.join(tmin_dir, file_name)\n",
    "        tmin_data = pd.read_csv(file_path, parse_dates=['date'])\n",
    "        tmin_data = tmin_data.sort_values('date')\n",
    "        tmin_data.set_index('date', inplace=True)\n",
    "        \n",
    "for file_name in os.listdir(tmax_dir):\n",
    "    if file_name.endswith('.csv'):\n",
    "        file_path = os.path.join(tmax_dir, file_name)\n",
    "        tmax_data = pd.read_csv(file_path, parse_dates=['date'])\n",
    "        tmax_data = tmax_data.sort_values('date')\n",
    "        tmax_data.set_index('date', inplace=True)\n",
    "\n",
    "\n",
    "for file_name in os.listdir(precip_dir):\n",
    "    if file_name.endswith('.csv'):\n",
    "        file_path = os.path.join(precip_dir, file_name)\n",
    "        precip_data = pd.read_csv(file_path, parse_dates=['date'])\n",
    "        precip_data = precip_data.sort_values('date')\n",
    "        precip_data.set_index('date', inplace=True)"
   ]
  },
  {
   "cell_type": "code",
   "execution_count": null,
   "metadata": {},
   "outputs": [],
   "source": [
    "###### Indices computation\n",
    "def tmin(mindata):\n",
    "    # Calculate TN10P\n",
    "    tn10 = mindata['tmin'].quantile(0.10)\n",
    "    cold_nights = mindata['tmin'] < tn10\n",
    "    TN10P = cold_nights.sum() / len(mindata) * 100\n",
    "    return TN10P\n",
    "\n",
    "def tmax(maxdata):\n",
    "    # Calculate TX90P\n",
    "    tx90 = maxdata['tmax'].quantile(0.90)\n",
    "    warm_days = maxdata['tmax'] > tx90\n",
    "    TX90P = warm_days.sum() / len(maxdata) * 100\n",
    "    return TX90P\n",
    "\n",
    "def cwd(precip):\n",
    "    # Calculate CWD\n",
    "    wet_days = precip['precip'] > 1\n",
    "    consecutive_wet_days = (wet_days != wet_days.shift()).cumsum()\n",
    "    wet_day_streaks = wet_days.groupby(consecutive_wet_days).cumsum()\n",
    "    CWD = wet_day_streaks.max()\n",
    "    return CWD\n",
    "\n",
    "def R95PTOT(precip):\n",
    "    # Calculate R95PTOT\n",
    "    r95 = precip['precip'].quantile(0.95)\n",
    "    extreme_wet_days = precip['precip'] > r95\n",
    "    R95PTOT = precip.loc[extreme_wet_days, 'precip'].sum()\n",
    "    return R95PTOT\n"
   ]
  },
  {
   "cell_type": "code",
   "execution_count": 14,
   "metadata": {},
   "outputs": [
    {
     "data": {
      "text/html": [
       "<div>\n",
       "<style scoped>\n",
       "    .dataframe tbody tr th:only-of-type {\n",
       "        vertical-align: middle;\n",
       "    }\n",
       "\n",
       "    .dataframe tbody tr th {\n",
       "        vertical-align: top;\n",
       "    }\n",
       "\n",
       "    .dataframe thead th {\n",
       "        text-align: right;\n",
       "    }\n",
       "</style>\n",
       "<table border=\"1\" class=\"dataframe\">\n",
       "  <thead>\n",
       "    <tr style=\"text-align: right;\">\n",
       "      <th></th>\n",
       "      <th>19790101   -1        0        1</th>\n",
       "    </tr>\n",
       "  </thead>\n",
       "  <tbody>\n",
       "    <tr>\n",
       "      <th>0</th>\n",
       "      <td>0</td>\n",
       "    </tr>\n",
       "    <tr>\n",
       "      <th>1</th>\n",
       "      <td>19790102   -1        0        1</td>\n",
       "    </tr>\n",
       "    <tr>\n",
       "      <th>2</th>\n",
       "      <td>0</td>\n",
       "    </tr>\n",
       "    <tr>\n",
       "      <th>3</th>\n",
       "      <td>19790103   -1        0        1</td>\n",
       "    </tr>\n",
       "    <tr>\n",
       "      <th>4</th>\n",
       "      <td>0</td>\n",
       "    </tr>\n",
       "  </tbody>\n",
       "</table>\n",
       "</div>"
      ],
      "text/plain": [
       "   19790101   -1        0        1\n",
       "0                                0\n",
       "1  19790102   -1        0        1\n",
       "2                                0\n",
       "3  19790103   -1        0        1\n",
       "4                                0"
      ]
     },
     "execution_count": 14,
     "metadata": {},
     "output_type": "execute_result"
    }
   ],
   "source": [
    "precip_dir = 'CPC_total_pre_day_0.5x0.5_1979-2021_'\n",
    "abi =  pd.read_csv(precip_dir+\"/CPC_total_precipitation_day_0.5x0.5_1979-2021_Abidjan.csv\")\n",
    "abi.head()"
   ]
  },
  {
   "cell_type": "code",
   "execution_count": null,
   "metadata": {},
   "outputs": [],
   "source": []
  }
 ],
 "metadata": {
  "kernelspec": {
   "display_name": "base",
   "language": "python",
   "name": "python3"
  },
  "language_info": {
   "codemirror_mode": {
    "name": "ipython",
    "version": 3
   },
   "file_extension": ".py",
   "mimetype": "text/x-python",
   "name": "python",
   "nbconvert_exporter": "python",
   "pygments_lexer": "ipython3",
   "version": "3.11.7"
  }
 },
 "nbformat": 4,
 "nbformat_minor": 2
}
