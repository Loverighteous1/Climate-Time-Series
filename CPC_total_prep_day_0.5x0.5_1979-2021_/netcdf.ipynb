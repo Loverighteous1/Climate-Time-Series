{
 "cells": [
  {
   "cell_type": "code",
   "execution_count": 1,
   "id": "c8407a55-85fe-4061-a1d5-ec3bcdc7d2d1",
   "metadata": {},
   "outputs": [],
   "source": [
    "import glob\n",
    "import netCDF4 as nc\n",
    "import os\n",
    "import pandas as pd\n",
    "import re"
   ]
  },
  {
   "cell_type": "code",
   "execution_count": 2,
   "id": "ae825ac3-02ef-4ec0-b8e6-99499a98034e",
   "metadata": {},
   "outputs": [
    {
     "data": {
      "text/plain": [
       "'/Users/loverighteous1/Desktop/MasterThesisData/CPC_total_prep_day_0.5x0.5_1979-2021_'"
      ]
     },
     "execution_count": 2,
     "metadata": {},
     "output_type": "execute_result"
    }
   ],
   "source": [
    "os.getcwd() # see working folder"
   ]
  },
  {
   "cell_type": "markdown",
   "id": "a8f9f3a2-b8c8-4c1f-a57b-36d3be3bc008",
   "metadata": {},
   "source": [
    "### Reading files and checking variables"
   ]
  },
  {
   "cell_type": "code",
   "execution_count": 3,
   "id": "942b4b65-026c-4a99-bcda-627f5734981b",
   "metadata": {},
   "outputs": [
    {
     "name": "stdout",
     "output_type": "stream",
     "text": [
      "dict_keys(['time', 'lon', 'lat', 'pr'])\n",
      "dict_keys(['time', 'lon', 'lat', 'pr'])\n",
      "dict_keys(['time', 'lon', 'lat', 'pr'])\n",
      "dict_keys(['time', 'lon', 'lat', 'pr'])\n",
      "dict_keys(['time', 'lon', 'lat', 'pr'])\n",
      "dict_keys(['time', 'lon', 'lat', 'pr'])\n",
      "dict_keys(['time', 'lon', 'lat', 'pr'])\n",
      "dict_keys(['time', 'lon', 'lat', 'pr'])\n",
      "dict_keys(['time', 'lon', 'lat', 'pr'])\n"
     ]
    }
   ],
   "source": [
    "netcdf_files = glob.glob(os.getcwd() + '/*.nc')\n",
    "for file in netcdf_files:\n",
    "    dataset = nc.Dataset(file, mode='r')\n",
    "    print(dataset.variables.keys())"
   ]
  },
  {
   "cell_type": "markdown",
   "id": "a0e698f4-d94b-4401-8c35-4d4269d3e867",
   "metadata": {},
   "source": [
    "### Convert data from netcdf4 format to csv format."
   ]
  },
  {
   "cell_type": "code",
   "execution_count": 4,
   "id": "c828f7cd-bad5-46bc-8249-3b96829ba2a8",
   "metadata": {},
   "outputs": [],
   "source": [
    "for file in netcdf_files:\n",
    "    dataset = nc.Dataset(file, mode='r')\n",
    "    time = dataset.variables['time'][:]\n",
    "    lat = dataset.variables['lat'][:]\n",
    "    lon = dataset.variables['lon'][:]\n",
    "    pr = dataset.variables['pr'][:]\n",
    "    data = {\n",
    "        'time': time.flatten(),\n",
    "        'pr': pr.flatten()\n",
    "    }\n",
    "    dataset = pd.DataFrame(data)\n",
    "    city = re.search(r'_(\\w+)\\.nc', file).group(1)  # same as netcdf_files[2].split('_')[-1][:-3]\n",
    "    dataset['city'] = city\n",
    "    dataset['lon'] = lon.flatten()[0]  # same as longitude.flatten().data[0]\n",
    "    dataset['lat'] = lat.flatten()[0]\n",
    "\n",
    "    start_date = pd.to_datetime('1979-01-01')\n",
    "\n",
    "    # Convert days since 1979 to actual dates\n",
    "    dataset['date'] = start_date + pd.to_timedelta(dataset['time'], unit='d')\n",
    "    dataset = dataset[['date', 'lon', 'lat', 'city', 'pr']]\n",
    "    prefix = 'CPC_total_precipitation_day_0.5x0.5_1979-2021_'\n",
    "    dataset.to_csv(f\"{prefix}{city}.csv\", index=False)"
   ]
  },
  {
   "cell_type": "code",
   "execution_count": 5,
   "id": "7312c353-d386-4cf3-a50d-bf14442bfd7c",
   "metadata": {},
   "outputs": [
    {
     "data": {
      "text/html": [
       "<div>\n",
       "<style scoped>\n",
       "    .dataframe tbody tr th:only-of-type {\n",
       "        vertical-align: middle;\n",
       "    }\n",
       "\n",
       "    .dataframe tbody tr th {\n",
       "        vertical-align: top;\n",
       "    }\n",
       "\n",
       "    .dataframe thead th {\n",
       "        text-align: right;\n",
       "    }\n",
       "</style>\n",
       "<table border=\"1\" class=\"dataframe\">\n",
       "  <thead>\n",
       "    <tr style=\"text-align: right;\">\n",
       "      <th></th>\n",
       "      <th>date</th>\n",
       "      <th>lon</th>\n",
       "      <th>lat</th>\n",
       "      <th>city</th>\n",
       "      <th>pr</th>\n",
       "    </tr>\n",
       "  </thead>\n",
       "  <tbody>\n",
       "    <tr>\n",
       "      <th>0</th>\n",
       "      <td>1979-01-01</td>\n",
       "      <td>-0.17</td>\n",
       "      <td>5.6</td>\n",
       "      <td>Accra</td>\n",
       "      <td>0.0</td>\n",
       "    </tr>\n",
       "    <tr>\n",
       "      <th>1</th>\n",
       "      <td>1979-01-02</td>\n",
       "      <td>-0.17</td>\n",
       "      <td>5.6</td>\n",
       "      <td>Accra</td>\n",
       "      <td>0.0</td>\n",
       "    </tr>\n",
       "    <tr>\n",
       "      <th>2</th>\n",
       "      <td>1979-01-03</td>\n",
       "      <td>-0.17</td>\n",
       "      <td>5.6</td>\n",
       "      <td>Accra</td>\n",
       "      <td>0.0</td>\n",
       "    </tr>\n",
       "    <tr>\n",
       "      <th>3</th>\n",
       "      <td>1979-01-04</td>\n",
       "      <td>-0.17</td>\n",
       "      <td>5.6</td>\n",
       "      <td>Accra</td>\n",
       "      <td>0.0</td>\n",
       "    </tr>\n",
       "    <tr>\n",
       "      <th>4</th>\n",
       "      <td>1979-01-05</td>\n",
       "      <td>-0.17</td>\n",
       "      <td>5.6</td>\n",
       "      <td>Accra</td>\n",
       "      <td>0.0</td>\n",
       "    </tr>\n",
       "  </tbody>\n",
       "</table>\n",
       "</div>"
      ],
      "text/plain": [
       "        date   lon  lat   city   pr\n",
       "0 1979-01-01 -0.17  5.6  Accra  0.0\n",
       "1 1979-01-02 -0.17  5.6  Accra  0.0\n",
       "2 1979-01-03 -0.17  5.6  Accra  0.0\n",
       "3 1979-01-04 -0.17  5.6  Accra  0.0\n",
       "4 1979-01-05 -0.17  5.6  Accra  0.0"
      ]
     },
     "execution_count": 5,
     "metadata": {},
     "output_type": "execute_result"
    }
   ],
   "source": [
    "dataset.head()"
   ]
  },
  {
   "cell_type": "code",
   "execution_count": 96,
   "id": "95b21841-b7f4-4eba-9af5-5a8c828c093e",
   "metadata": {},
   "outputs": [
    {
     "data": {
      "text/html": [
       "<div>\n",
       "<style scoped>\n",
       "    .dataframe tbody tr th:only-of-type {\n",
       "        vertical-align: middle;\n",
       "    }\n",
       "\n",
       "    .dataframe tbody tr th {\n",
       "        vertical-align: top;\n",
       "    }\n",
       "\n",
       "    .dataframe thead th {\n",
       "        text-align: right;\n",
       "    }\n",
       "</style>\n",
       "<table border=\"1\" class=\"dataframe\">\n",
       "  <thead>\n",
       "    <tr style=\"text-align: right;\">\n",
       "      <th></th>\n",
       "      <th>time</th>\n",
       "      <th>precipitation</th>\n",
       "      <th>city</th>\n",
       "      <th>longitude</th>\n",
       "      <th>latitude</th>\n",
       "    </tr>\n",
       "  </thead>\n",
       "  <tbody>\n",
       "    <tr>\n",
       "      <th>0</th>\n",
       "      <td>0.0</td>\n",
       "      <td>0.0</td>\n",
       "      <td>Abidjan</td>\n",
       "      <td>-3.93</td>\n",
       "      <td>5.26</td>\n",
       "    </tr>\n",
       "    <tr>\n",
       "      <th>1</th>\n",
       "      <td>1.0</td>\n",
       "      <td>0.0</td>\n",
       "      <td>Abidjan</td>\n",
       "      <td>-3.93</td>\n",
       "      <td>5.26</td>\n",
       "    </tr>\n",
       "    <tr>\n",
       "      <th>2</th>\n",
       "      <td>2.0</td>\n",
       "      <td>0.0</td>\n",
       "      <td>Abidjan</td>\n",
       "      <td>-3.93</td>\n",
       "      <td>5.26</td>\n",
       "    </tr>\n",
       "    <tr>\n",
       "      <th>3</th>\n",
       "      <td>3.0</td>\n",
       "      <td>0.0</td>\n",
       "      <td>Abidjan</td>\n",
       "      <td>-3.93</td>\n",
       "      <td>5.26</td>\n",
       "    </tr>\n",
       "    <tr>\n",
       "      <th>4</th>\n",
       "      <td>4.0</td>\n",
       "      <td>0.0</td>\n",
       "      <td>Abidjan</td>\n",
       "      <td>-3.93</td>\n",
       "      <td>5.26</td>\n",
       "    </tr>\n",
       "    <tr>\n",
       "      <th>...</th>\n",
       "      <td>...</td>\n",
       "      <td>...</td>\n",
       "      <td>...</td>\n",
       "      <td>...</td>\n",
       "      <td>...</td>\n",
       "    </tr>\n",
       "    <tr>\n",
       "      <th>15701</th>\n",
       "      <td>15701.0</td>\n",
       "      <td>NaN</td>\n",
       "      <td>Accra</td>\n",
       "      <td>-0.17</td>\n",
       "      <td>5.60</td>\n",
       "    </tr>\n",
       "    <tr>\n",
       "      <th>15702</th>\n",
       "      <td>15702.0</td>\n",
       "      <td>NaN</td>\n",
       "      <td>Accra</td>\n",
       "      <td>-0.17</td>\n",
       "      <td>5.60</td>\n",
       "    </tr>\n",
       "    <tr>\n",
       "      <th>15703</th>\n",
       "      <td>15703.0</td>\n",
       "      <td>NaN</td>\n",
       "      <td>Accra</td>\n",
       "      <td>-0.17</td>\n",
       "      <td>5.60</td>\n",
       "    </tr>\n",
       "    <tr>\n",
       "      <th>15704</th>\n",
       "      <td>15704.0</td>\n",
       "      <td>NaN</td>\n",
       "      <td>Accra</td>\n",
       "      <td>-0.17</td>\n",
       "      <td>5.60</td>\n",
       "    </tr>\n",
       "    <tr>\n",
       "      <th>15705</th>\n",
       "      <td>15705.0</td>\n",
       "      <td>NaN</td>\n",
       "      <td>Accra</td>\n",
       "      <td>-0.17</td>\n",
       "      <td>5.60</td>\n",
       "    </tr>\n",
       "  </tbody>\n",
       "</table>\n",
       "<p>141354 rows × 5 columns</p>\n",
       "</div>"
      ],
      "text/plain": [
       "          time  precipitation     city  longitude  latitude\n",
       "0          0.0            0.0  Abidjan      -3.93      5.26\n",
       "1          1.0            0.0  Abidjan      -3.93      5.26\n",
       "2          2.0            0.0  Abidjan      -3.93      5.26\n",
       "3          3.0            0.0  Abidjan      -3.93      5.26\n",
       "4          4.0            0.0  Abidjan      -3.93      5.26\n",
       "...        ...            ...      ...        ...       ...\n",
       "15701  15701.0            NaN    Accra      -0.17      5.60\n",
       "15702  15702.0            NaN    Accra      -0.17      5.60\n",
       "15703  15703.0            NaN    Accra      -0.17      5.60\n",
       "15704  15704.0            NaN    Accra      -0.17      5.60\n",
       "15705  15705.0            NaN    Accra      -0.17      5.60\n",
       "\n",
       "[141354 rows x 5 columns]"
      ]
     },
     "execution_count": 96,
     "metadata": {},
     "output_type": "execute_result"
    }
   ],
   "source": [
    "data = pd.concat(datasets)\n",
    "data"
   ]
  },
  {
   "cell_type": "code",
   "execution_count": 98,
   "id": "6c01f245-8c10-4ca5-84f6-1807ae49b921",
   "metadata": {},
   "outputs": [],
   "source": []
  },
  {
   "cell_type": "code",
   "execution_count": null,
   "id": "74008a9e-0a3e-4cb4-b0d7-0511ce2a343c",
   "metadata": {},
   "outputs": [],
   "source": []
  }
 ],
 "metadata": {
  "kernelspec": {
   "display_name": "Python 3 (ipykernel)",
   "language": "python",
   "name": "python3"
  },
  "language_info": {
   "codemirror_mode": {
    "name": "ipython",
    "version": 3
   },
   "file_extension": ".py",
   "mimetype": "text/x-python",
   "name": "python",
   "nbconvert_exporter": "python",
   "pygments_lexer": "ipython3",
   "version": "3.11.7"
  }
 },
 "nbformat": 4,
 "nbformat_minor": 5
}
